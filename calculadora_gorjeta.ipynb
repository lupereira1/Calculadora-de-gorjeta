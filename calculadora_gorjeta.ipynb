{
  "nbformat": 4,
  "nbformat_minor": 0,
  "metadata": {
    "colab": {
      "provenance": [],
      "authorship_tag": "ABX9TyOjP3irRb0e2a5hj6v2UoDS",
      "include_colab_link": true
    },
    "kernelspec": {
      "name": "python3",
      "display_name": "Python 3"
    },
    "language_info": {
      "name": "python"
    }
  },
  "cells": [
    {
      "cell_type": "markdown",
      "metadata": {
        "id": "view-in-github",
        "colab_type": "text"
      },
      "source": [
        "<a href=\"https://colab.research.google.com/github/lupereira1/Calculadora-de-gorjeta/blob/main/calculadora_gorjeta.ipynb\" target=\"_parent\"><img src=\"https://colab.research.google.com/assets/colab-badge.svg\" alt=\"Open In Colab\"/></a>"
      ]
    },
    {
      "cell_type": "code",
      "execution_count": null,
      "metadata": {
        "id": "OO4BdJmjS_qS"
      },
      "outputs": [],
      "source": [
        "custo_da_refeiçao = float(input(\"Digite o valor da refeição em R$: \"))\n",
        "porcentagem_de_impostos = float(input(\"Digite o valor da porcentagem do imposto: \"))\n",
        "porcentagem_da_gorjeta = float(input(\"Digite a porcentagem da gorjeta: \"))\n",
        "\n",
        "valor_impostos = round(custo_da_refeiçao * porcentagem_de_impostos / 100, 2)\n",
        "custo_total_ref = round(custo_da_refeiçao + valor_impostos, 2)\n",
        "valor_total_gorjeta = round(porcentagem_da_gorjeta * custo_da_refeiçao / 100, 2)\n",
        "valor_total = (custo_total_ref + valor_total_gorjeta)\n",
        "\n",
        "print(f'O custo da sua refeição foi {custo_da_refeiçao} reais, o valor da porcentagem dos impostos sobre a refeição foram {porcentagem_de_impostos}% e a porcentagem da gorjeta foi {porcentagem_da_gorjeta}% ')\n",
        "print(f'Você pagará {valor_impostos} reais de impostos e {valor_total_gorjeta} reais de gorjeta')\n",
        "print(f'O valor total da sua conta foi: {valor_total} reais e você ganhou um vale sobremesa para sua próxima visita')"
      ]
    }
  ]
}